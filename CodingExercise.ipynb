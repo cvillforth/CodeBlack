{
 "cells": [
  {
   "cell_type": "markdown",
   "metadata": {},
   "source": [
    "# <u> Coding Workshop - Weighing supermassive black holes\n",
    "    \n",
    "Author: Dr Carolin Villforth\n",
    "    \n",
    "Astronomical research often used coding to analyse data, work with large datasets or simulate the Universe. In this notebook, we will weigh a supermassive black hole using coding as a tool. We want to show you how coding is used in research and teach you about supermassive black hole masses as we go along. For those who are inspired to explore the science or coding further, there are links throughout.\n",
    "    \n",
    "In this Jupyter notebook, we will go through the simple basics of coding and how we can use coding to do science. We will be using [Jupyter notebooks](https://jupyter.org/), which use the programming language [Python](https://www.python.org/). Python is used very widely in astronomy, and many large institutions like the [Hubble Space Telescope (HST)](https://hubblesite.org/), [LIGO](https://en.wikipedia.org/wiki/LIGO) and others use Python to analyze their data. Python is also easy to learn and very popular [outside of astrophysics](https://realpython.com/world-class-companies-using-python/).\n",
    "    \n",
    "<u><b>A few links for those of you who would like to go further:</b>\n",
    "\n",
    "<u>General ressources for starting to code:\n",
    "\n",
    "- [Software Carpentry - General](https://software-carpentry.org/lessons/)\n",
    "\n",
    "- [Software Carpentry - Python](https://swcarpentry.github.io/python-novice-inflammation/)\n",
    "\n",
    "- [Install python on your own computer](https://docs.anaconda.com/anaconda/install/), you will need to install this if you would like to start coding yourself.\n",
    "\n",
    "\n",
    "<u>Notebooks like this one, but going through more advanced data analysis:\n",
    "\n",
    "- [Analyse graviational waves](https://www.gw-openscience.org/GW150914data/GW150914_tutorial.html)\n",
    "\n",
    "    \n",
    "<u>Other links to online activities in astrophysics:\n",
    "    \n",
    "- [Take an expeditions with the Sloan Digital Sky Survey, which we will be using today!](https://voyages.sdss.org/)\n",
    "    \n",
    "- [Help scientists understand how galaxies evolve using Galazy Zoo](https://www.zooniverse.org/projects/zookeeper/galaxy-zoo/)\n",
    "    \n",
    "- [Gravitational Wave hunting with LIGO](https://www.ligo.caltech.edu/page/activities-try-home)\n",
    "\n",
    "<b>Let's get started.....\n",
    "    \n",
    "**Note: you will be making changes to the notebook, you can download your modified version using the 'download' button.**"
   ]
  },
  {
   "cell_type": "markdown",
   "metadata": {},
   "source": [
    "## Why we use coding in science\n",
    "\n",
    "Coding is now a central in much of research, here we want to show you some simple steps. By the end of this notebook, you will have measured the mass of a black hole and visualized the properties of a large sample of black holes.\n",
    "\n",
    "In general, [coding - or programming-](https://en.wikipedia.org/wiki/Computer_programming) refers to designing a computer program that performs calculations or executes tasks. For example, we might write code to perform a large number of calculations faster than could be done in your head or using a calculator. Alternatively, we might use coding to control equipment, such as telescopes! To achieve this, we need to write down instructions to the computer how the calculations or tasks should be executed. We do this using a programming language, that is a language the computers will understand. There are a range of different programming languages out there, which differ in their syntax (which is a bit like grammar) and the tasks they are good at. Many of the principles however are similar across languages, so learning one makes it easier to learn others. Here we will be using [Python](https://www.python.org/), which is very popular in science. In astrophysics, we use coding for...\n",
    "\n",
    "- <b>dealing with large datasets</b>: many of our datasets contain millions of objects, we need coding to perform even simple calculations. An example is the [Sloan Digital Sky Survey](https://www.sdss.org/) which has surveyed over half of the sky and mapped millions of galaxies and accretion black holes (we will be using some of this data ourselves very soon!).\n",
    "\n",
    "- <b>performing complex calculations</b>: the Universe is extremely large, and the physics involved for example in galaxy evolution is very complex and we need to take into account a lot of difficult physics. Simulations of the Universe require many months on extremely powerful supercomputers to perform such complex simulations. Examples of such powerful calculations of the entire Universe include [IllustrisTNG](https://www.tng-project.org/), [EAGLE](http://icc.dur.ac.uk/Eagle/index.php), [Horizon](https://www.horizon-simulation.org/about.html) and others. You can find many great videos of the evolving universe on the linked pages, for example [here](http://www.tng-project.org/movies/tng/tng300_most_massive_cluster_gas_1080p.mp4)\n",
    "\n",
    "- <b>visualizing data</b>: as we have already mentioned, we often have access to very large datasets and need to show them in figures, we can also do this using programming, and will do so below. Some cool visualizations include [this \"flythrough\" of the universe](http://www.sdss3.org/press/dr9.php) and [an exoplanet visualization](https://www.ianww.com/blog/2013/03/25/kepler-exoplanet-visualization/).\n",
    "\n",
    "Today, we will go through simple examples of such uses and measure the mass of a black hole!\n",
    "\n",
    "But first..."
   ]
  },
  {
   "cell_type": "markdown",
   "metadata": {},
   "source": [
    "## 0. How to use this notebook\n",
    "\n",
    "You can perform most of the tasks in this notebook without writing your own code, but by running and interacting with the code that is pre-written. Like this, you can learn about the science and also see how we can use coding in research. If you are interested in doing more, you will find opportunities to write your own code in all parts, they are marked as \"your turn\". There are also plenty of links to online tutorials. "
   ]
  },
  {
   "cell_type": "markdown",
   "metadata": {},
   "source": [
    "## 1. Coding Basics"
   ]
  },
  {
   "cell_type": "markdown",
   "metadata": {},
   "source": [
    "Before we can get started, let us start with some basics. We will not have time to really teach you to code, if are are interested in learning more, check the links at the very top of this notebook. \n",
    "\n",
    "The few basics we will be going through here are:\n",
    "\n",
    "- how to use notebooks\n",
    "\n",
    "- running cells (i.e. sending instructions to the computer)\n",
    "\n",
    "- assigments\n",
    "\n",
    "Once we get started with the science, we will also cover functions, a great way to automize calculations.\n",
    "\n",
    "### 1.1 Getting started\n",
    "\n",
    "Throughout this notebook, you will see cells like this one here, these are cods cells, and what is written in these cells will be 'executed', i.e. it will be sent to the computer and the computer will then complete your command. You can control all of this using the command bar at the top of your notebook, it looks like this. You can see here the explanation of the most important features.\n",
    "\n",
    "#### You can also use key commands as follow:\n",
    "\n",
    "- `shift` + `enter` runs a cell\n",
    "- `esc` + `a` adds a cell above\n",
    "- `esc` + `b` adds a bell below\n",
    "- click on the keyboard (purple arrow below) to see other commands\n",
    "\n",
    "![](manual.png)\n",
    "\n",
    "Let's try this out."
   ]
  },
  {
   "cell_type": "code",
   "execution_count": null,
   "metadata": {},
   "outputs": [],
   "source": [
    "#everything after a hash is a comment and will be ignored by the computer\n",
    "#Let's tell the computer to say something, press the run button above to see.\n",
    "print(\"Hello world\")"
   ]
  },
  {
   "cell_type": "code",
   "execution_count": null,
   "metadata": {},
   "outputs": [],
   "source": [
    "#Nice! You can modify this to print your own name\n",
    "print(\"<add name here> is coding!\")"
   ]
  },
  {
   "cell_type": "markdown",
   "metadata": {},
   "source": [
    "Here, you see that we have written the text in quote marks, this tells the computer that we are sending so called \"strings\", these are interpreted by the computer as text. You can find more on strings [here](https://docs.python.org/3/tutorial/introduction.html#strings), though they will be of limited use for our exercise.\n",
    "\n",
    "You also see that we have written the code itself and then comments, after a hashtag, these are comments, i.e. you can write what you like and the computer will ignore it."
   ]
  },
  {
   "cell_type": "markdown",
   "metadata": {},
   "source": [
    "### 1.2 Calculations\n",
    "\n",
    "We will want to use Python to do some calculations, so to get started, let's make some calculations. You can find more details [here](https://docs.python.org/3/tutorial/introduction.html#using-python-as-a-calculator)"
   ]
  },
  {
   "cell_type": "code",
   "execution_count": null,
   "metadata": {},
   "outputs": [],
   "source": [
    "#Let's calculate\n",
    "2+2"
   ]
  },
  {
   "cell_type": "code",
   "execution_count": null,
   "metadata": {},
   "outputs": [],
   "source": [
    "2**3"
   ]
  },
  {
   "cell_type": "code",
   "execution_count": null,
   "metadata": {},
   "outputs": [],
   "source": [
    "3/2"
   ]
  },
  {
   "cell_type": "code",
   "execution_count": null,
   "metadata": {},
   "outputs": [],
   "source": [
    "##We will be using powers a lot, below is code that means 1 times 10 to the power of three\n",
    "1e3"
   ]
  },
  {
   "cell_type": "markdown",
   "metadata": {},
   "source": [
    "#### Your turn: Divide 5.9 Billion by 300 000. (Pluto is at a distance of 5.9 Billion km from the sun, the speed of light is 300 000 km/s, so this gives you the time it takes light from the sun to reach Pluto in seconds)"
   ]
  },
  {
   "cell_type": "code",
   "execution_count": null,
   "metadata": {},
   "outputs": [],
   "source": []
  },
  {
   "cell_type": "markdown",
   "metadata": {},
   "source": [
    "### 1.3 Variables\n",
    "\n",
    "So far so good, but this is not much better than using a calculator, to really get the best of Python, we will need variables, you can find a longer explanation of them [here](https://realpython.com/python-variables/).\n",
    "\n",
    "What we will be doing here is storing the result of our calculation in the variable a. We will be using this later on a lot."
   ]
  },
  {
   "cell_type": "code",
   "execution_count": null,
   "metadata": {},
   "outputs": [],
   "source": [
    "## This is great, but we might want to store the result of our calculation for further use.\n",
    "a = 2+2"
   ]
  },
  {
   "cell_type": "code",
   "execution_count": null,
   "metadata": {},
   "outputs": [],
   "source": [
    "a"
   ]
  },
  {
   "cell_type": "code",
   "execution_count": null,
   "metadata": {},
   "outputs": [],
   "source": [
    "a+4"
   ]
  },
  {
   "cell_type": "markdown",
   "metadata": {},
   "source": [
    "#### Your turn: Define values b = 7, c = 9 and add them."
   ]
  },
  {
   "cell_type": "code",
   "execution_count": null,
   "metadata": {},
   "outputs": [],
   "source": []
  },
  {
   "cell_type": "markdown",
   "metadata": {},
   "source": [
    "### 1.4 Functions: automating your calculations\n",
    "\n",
    "Another very common feature we use commonly are functions. These are collections of code that perform a task or set of calculations given an input and often return an output. You can learn more about how to define functions [here](https://realpython.com/defining-your-own-python-function/#functions-in-python).\n",
    "\n",
    "Let's get started with a very simple function (we will be writing up some much more useful functions to weigh black holes later on). You might also remember that we can write comments after the hashtag #. It is useful to add comments to your code to show what it does."
   ]
  },
  {
   "cell_type": "code",
   "execution_count": null,
   "metadata": {},
   "outputs": [],
   "source": [
    "#Defining our first function\n",
    "def addnumbers(a,b):\n",
    "    added = a+b # this line adds two numbers a and b\n",
    "    return(added)"
   ]
  },
  {
   "cell_type": "markdown",
   "metadata": {},
   "source": [
    "Ok, so what have we done here, we have defined a function that adds two numbers. Of course this is a bit silly, but it allows us to practice for more useful functions later on.\n",
    "\n",
    "Let's go through this line by line.\n",
    "\n",
    "`def addnumbers(a,b):`\n",
    "\n",
    "This line starts our function, here we **define (def)** a function names **addnumbers** that takes the input values a and b.\n",
    "\n",
    "The next line you can see is indented, i.e. shifted to the right. This is Python's way of indicating that any code indented as such after the definition 'belongs' to the function.\n",
    "\n",
    "`   added = a+b`\n",
    "    \n",
    "This line does a simple calculation, as we did before and adds up the two input values a and b.\n",
    "\n",
    "`   return(added)`\n",
    "\n",
    "The final line now **returns** the added values.\n",
    "\n",
    "Ok, so how do we use this function. Let's add two numbers, 1 and 3, we do this as follows."
   ]
  },
  {
   "cell_type": "code",
   "execution_count": null,
   "metadata": {},
   "outputs": [],
   "source": [
    "addnumbers(1,3)"
   ]
  },
  {
   "cell_type": "markdown",
   "metadata": {},
   "source": [
    "This specific function is of course not particularly useful, but we will be using the same structures later on to measure black hole masses."
   ]
  },
  {
   "cell_type": "markdown",
   "metadata": {},
   "source": [
    "### 1.5 Getting help - using modules\n",
    "\n",
    "We can write extremely powerful code using the basic caculations, but we can also get help from Python by importing [modules](https://www.datacamp.com/community/tutorials/modules-in-python). These are collections of code we can make use of. Think of them like boxes of tools we can make use of once we have imported them."
   ]
  },
  {
   "cell_type": "code",
   "execution_count": null,
   "metadata": {},
   "outputs": [],
   "source": [
    "import numpy as np"
   ]
  },
  {
   "cell_type": "markdown",
   "metadata": {},
   "source": [
    "imports the toolbox numpy and names it np (this is common practice). We can now access tools from numpy as follows:"
   ]
  },
  {
   "cell_type": "code",
   "execution_count": null,
   "metadata": {},
   "outputs": [],
   "source": [
    "np.log10(100)"
   ]
  },
  {
   "cell_type": "markdown",
   "metadata": {},
   "source": [
    "Here, we have used the function np.log10. This is a function much like the one we wrote ourselves, and the np. indicates that this function lives within the imported module. We can use it just like we did our own functions. \n",
    "\n",
    "Sharing code is very common in science and scientists will always use code written by others. Often this code is published for others to see, known as [Open Source Software](https://en.wikipedia.org/wiki/Open-source_software). This is another reason to document code well, it allows others to reuse your work!\n",
    "\n",
    "One of the modules we use here is [matplotlib](https://matplotlib.org/), we will use this to visualize data. You can have a look at the different types of plots that can be made with matplotlib [here](https://matplotlib.org/stable/gallery/index.html), if you click on each of the figures, you will see the code that was used to make the plot."
   ]
  },
  {
   "cell_type": "code",
   "execution_count": null,
   "metadata": {},
   "outputs": [],
   "source": [
    "#These are some additional imports we need\n",
    "import matplotlib.pyplot as plt #for plotting\n",
    "%matplotlib inline\n",
    "#here we import some custom code, you can have a look at it in the visualisations.py file\n",
    "from visualisations import bh_interactive, analyze_spectrum, tellmetheblackholemass, fit_spectrum"
   ]
  },
  {
   "cell_type": "markdown",
   "metadata": {},
   "source": [
    "## 2. Approaching black holes\n",
    "\n",
    "Now that we have learned some of the basics of Python, let's get started with some science. We will be talking about supermassive black holes, these are present in the centers of basically all massive galaxies. Supermassive black holes have masses of millions to billions times the mass of our own sun, which itself weights $2\\times10^{30}$kg. We know of supermassive black holes mainly when they actively accrete, i.e. when matter falls in and lights up. If you want to learn more about the background science, you can watch a short 15min talk [here](https://youtu.be/4wcTbRn3gNM). Accreting supermassive black holes are often referred to as [Active Galactic Nuclei](https://en.wikipedia.org/wiki/Active_galactic_nucleus).\n",
    "\n",
    "### From the solar system....\n",
    "\n",
    "But how we can possibly measure the mass of such as supermassive black hole? Let's start by considering how we measure the mass of the sun in our own solar system. You will have learned that [Kepler's laws](https://en.wikipedia.org/wiki/Kepler%27s_laws_of_planetary_motion) determine the motion of planets in the solar system.\n",
    "\n",
    "Particularly, let's look at Kepler's third law:\n",
    "\n",
    "$\\begin{equation}\n",
    "\\dfrac{a^3}{T^2}=\\dfrac{G(M+m)}{4\\pi^2}\n",
    "\\end{equation}$\n",
    "\n",
    "where a is the semi-major axis, this is the distance between the planet and sun (this is called the Astronomical Unit for the earth). T is the period (this is a year for earth). G is the graviational constant, M is the mass of the sun, and m the mass of the planet.\n",
    "\n",
    "Since we know that the planet travels around the star within a period T at the distance a, we can then also calculate the Keplerian velocity v of the planet.\n",
    "\n",
    "$\\begin{equation}\n",
    "v=\\sqrt{\\dfrac{G*(M+m)}{a}}\n",
    "\\end{equation}$\n",
    "\n",
    "And if we have a situation where the mass of the planet is very small compared to the sun, then:\n",
    "\n",
    "$\\begin{equation}\n",
    "M+m \\approx M\n",
    "\\end{equation}$\n",
    "\n",
    "and \n",
    "\n",
    "$\\begin{equation}\n",
    "v=\\sqrt{\\dfrac{G*M}{a}}\n",
    "\\end{equation}$\n",
    "\n",
    "So, let's calculate how fast the earth is rotating around the sun!"
   ]
  },
  {
   "cell_type": "code",
   "execution_count": null,
   "metadata": {},
   "outputs": [],
   "source": [
    "## Here, we are defining some parameters\n",
    "G = 6.67e-11 #units are m^3 kg^-1 s^-2\n",
    "M_sun = 1.99e30 #units is kg\n",
    "au = 1.5e11 # the distance of the earth to the sun in m\n",
    "ly = 9.46e15 # lightyear in m\n",
    "c = 2.998e8 # speed of light in m/s "
   ]
  },
  {
   "cell_type": "code",
   "execution_count": null,
   "metadata": {},
   "outputs": [],
   "source": [
    "def kepler_velocity(a, M):\n",
    "    \"\"\"\n",
    "    This function calculated the velocity given a semi-major axis a and mass of the central object M.\n",
    "    a: semi-major axis in meters\n",
    "    M: central mass in kg\n",
    "    returns: velocity in m/s\n",
    "    \"\"\"\n",
    "    v = np.sqrt(G*M/a)\n",
    "    return v"
   ]
  },
  {
   "cell_type": "markdown",
   "metadata": {},
   "source": [
    "We can now use this simple function to calculate the rotation velocity of material around any objects, let's start with Earth:"
   ]
  },
  {
   "cell_type": "code",
   "execution_count": null,
   "metadata": {},
   "outputs": [],
   "source": [
    "velocity_earth = kepler_velocity(1.5e11, 1.99e30)\n",
    "print(velocity_earth)"
   ]
  },
  {
   "cell_type": "markdown",
   "metadata": {},
   "source": [
    "The strength of such function is that we can also calculate the speeds of all the planets as they orbit the sun. Let's give it a try."
   ]
  },
  {
   "cell_type": "code",
   "execution_count": null,
   "metadata": {},
   "outputs": [],
   "source": [
    "a_mercury = 0.3871*au\n",
    "#a_venus =\n",
    "a_earth = au\n",
    "#a_mars =\n",
    "#a_jupiter = \n",
    "#a_saturn =\n",
    "#a_neptune = \n",
    "#a_pluto = \n",
    "a_solarsystem = np.array([a_mercury, a_earth])\n",
    "kepler_velocity(a_solarsystem, M_sun)"
   ]
  },
  {
   "cell_type": "markdown",
   "metadata": {},
   "source": [
    "### ..... to supermassive black holes\n",
    "\n",
    "So how does this all relate to black holes? [Black holes](https://en.wikipedia.org/wiki/Black_hole) are massive objects, so the basic physics behind Kepler's law holds. Therefore, the calculations we have made would also apply to supermassive black holes the same way they apply to planets.\n",
    "\n",
    "The cell below will create an interactive graph that allows you to explore the rotation velocity of material around the black hole. Move the sliders at the top to change the black hole mass (on a logarithmic scale, so 6 is 1 million solar masses ($10^6$), 7 is 10 million ($10^7$) and 9 is 1 billion ($10^9$)). You can also change the distance from the black hole, to make this relatble, the distance is given is astronomical units (the distance between earth and sun).\n",
    "\n",
    "You will see that if you get to close to the black hole, you will be swallowed by the black hole (the red area in the plots), this is at the [Schwarzschild radius](https://en.wikipedia.org/wiki/Schwarzschild_radius), even outside this radius, once you cross the some distance, there are no more stable orbits and you will plunge torward the black hole (the yellow area). [You can see an image of this region very close to the black hole here.](https://eventhorizontelescope.org/press-release-april-10-2019-astronomers-capture-first-image-black-hole)\n",
    "\n",
    "### Your turn: How could we measure the mass of a black hole?\n",
    "\n",
    "Move the sliders to see how the orbital velocity changes with the black hole mass and radius. How could we use this to measure the mass of the black hole?"
   ]
  },
  {
   "cell_type": "code",
   "execution_count": null,
   "metadata": {
    "scrolled": true
   },
   "outputs": [],
   "source": [
    "## This created the plot, you can check the code in the file visualisations.py, but it's quite advanced\n",
    "interactive_plot_vr =bh_interactive(False)\n",
    "output = interactive_plot_vr.children[-1]\n",
    "interactive_plot_vr"
   ]
  },
  {
   "cell_type": "markdown",
   "metadata": {},
   "source": [
    "As you can see here, the velocity changes rather strongly with the black hole mass. If you have already encountered logarithms, you can create the same plot here to much further distances using a [logarithm](https://www.mathsisfun.com/algebra/logarithms.html) of the distance. If you are not familiar with this, just carry on!\n",
    "\n",
    "In astrophysics, we often use logaritms because we look at numbers spanning a very wide range, say from 1AU to thousands of lightyears. You will see this also below when we look at a wider range of BH masses. We cannot really display such a wide range in a normal plot, the logarithm allows us to see what is going on over a wide range since each step on the axis is a factor of 10 larger. That means our axis labels are now 1,10,100,1000.... rather than 1,2,3,4. Because this does not work well on a slider, you can now enter the value for the distance.\n",
    "..."
   ]
  },
  {
   "cell_type": "code",
   "execution_count": null,
   "metadata": {},
   "outputs": [],
   "source": [
    "## Same as above, but now on a log scale\n",
    "interactive_plot_vr_log =bh_interactive(False, True)\n",
    "output = interactive_plot_vr_log.children[-1]\n",
    "interactive_plot_vr_log"
   ]
  },
  {
   "cell_type": "markdown",
   "metadata": {},
   "source": [
    "## 3. The spectrum of a feeding black hole\n",
    "\n",
    "Luckily for us, when a supermassive black hole is accreting, gas clouds orbit it in the region we explored above. If we can measure the velocity of these gas clouds and know their distance, we can therefore measure the black hole mass by rearranging.\n",
    "\n",
    "$\\begin{equation}\n",
    "v=\\sqrt{\\dfrac{G*M}{a}}\n",
    "\\end{equation}$\n",
    "\n",
    "to\n",
    "\n",
    "$\\begin{equation}\n",
    "M_{black hole}=\\dfrac{v^2\\times a}{G}\n",
    "\\end{equation}$\n",
    "\n",
    "here v is the velocity of the cloud, a is its distance to the black hole and G is the graviational constant.\n",
    "\n",
    "### Let's look at the spectrum of an accreting black hole\n",
    "\n",
    "We will be looking at the spectrum of an accreting supermassive black hole taken with the [Sloan Digital Sky Survey](https://en.wikipedia.org/wiki/Sloan_Digital_Sky_Survey). You can watch the telescope at work [here](https://www.youtube.com/watch?v=AHsS57NMQjE&t=7s). The telescope observes the spectra of hundreds of objects at a time. Each objects is observed through a hole in a [large metal plate](https://blog.sdss.org/2014/09/19/sdss-plates/), you can see how the fibers are manually placed onto the holes [here](https://www.youtube.com/watch?v=i6ZOUDWRwtg). You can find more information about the telescope [here](https://voyages.sdss.org/).\n",
    "\n",
    "[First, have a look at the object we will be studying here](http://skyserver.sdss.org/dr16/en/tools/quicklook/summary.aspx?ra=14%2013%2024&dec=53%2005%2027)"
   ]
  },
  {
   "cell_type": "code",
   "execution_count": null,
   "metadata": {},
   "outputs": [],
   "source": [
    "# The spectrum is saved in a text file, you can have a look at it on the main page\n",
    "spectrum = np.loadtxt('spectrum.txt', delimiter=',') # this loads the spectrum\n",
    "wavelength = spectrum[:,0] # the first column is the wavelength\n",
    "flux = spectrum[:,1] #  second column is the flux"
   ]
  },
  {
   "cell_type": "code",
   "execution_count": null,
   "metadata": {},
   "outputs": [],
   "source": [
    "# We now use matplotlin which we loaded earlier to make the plot\n",
    "plt.plot(wavelength, flux, ls='-', c='k', lw=1) # plot the spectrum\n",
    "plt.xlabel('Wavelength [$\\AA$]') # labels the axes\n",
    "plt.ylabel('Flux')"
   ]
  },
  {
   "cell_type": "markdown",
   "metadata": {},
   "source": [
    "Excellent, this is the spectrum of an accreting black hole, what we see here is the material falling into the black hole and emits light as it falls in, this is called the [accretion disk](https://en.wikipedia.org/wiki/Accretion_disk). You can see a computer simulation of the accretion disk [here](https://www.youtube.com/watch?v=2sU8UBxNPSI). You might also see some spikes near the center of the plot. Let's have a closer look at those."
   ]
  },
  {
   "cell_type": "code",
   "execution_count": null,
   "metadata": {},
   "outputs": [],
   "source": [
    "plt.plot(wavelength, flux, ls='-', c='k', lw=1)\n",
    "plt.xlabel('Wavelength [$\\AA$]')\n",
    "plt.ylabel('Flux')\n",
    "plt.xlim(6950, 7400)\n",
    "plt.ylim(10, 30)\n",
    "z=0.4563313\n",
    "plt.title(\"Emission lines around accreting black hole\")\n",
    "plt.axvline(5008*(1+z), ls=':', c='b')\n",
    "plt.axvline(4960*(1+z), ls=':', c='b')\n",
    "plt.axvline(4863*(1+z), ls='-', c='r')"
   ]
  },
  {
   "cell_type": "markdown",
   "metadata": {},
   "source": [
    "### How do we measure the orbital velocity of the gas cloud?\n",
    "\n",
    "Gas clouds, like most things in the Universe, are made of atoms, which follow the laws of quantum mechanics. In particular, the electrons in these atoms exist at discrete [energy levels](https://skyserver.sdss.org/dr1/en/proj/advanced/spectraltypes/energylevels.asp), which are restricted by quantum mechanics. Electrons can drop energy levels, emitting a photon at the exact wavelength corresponding to the energy gap between the levels. Atoms can also absorb photons of the appropriate wavelength to raise an electron to a higher energy level. These processes form the basis of [spectral lines](http://skyserver.sdss.org/dr1/en/proj/advanced/spectraltypes/lines.asp), which appear at characteristic wavelengths for different types of atom (for example, [hydrogen](https://astronomy.swin.edu.au/cosmos/b/Balmer+series)).\n",
    "\n",
    "We would expect spectral lines to be infinitely thin, existing at only one specific wavelength, but this is clearly not the case for our black hole spectrum. As the gas clouds orbit the black hole, the wavelengths of their spectral lines are changed due to the [Doppler effect](https://en.wikipedia.org/wiki/Doppler_effect), which shortens the wavelength of light emitted by an object moving towards the observer and lengthens the wavelength from an object moving away:\n",
    "\n",
    "$\\begin{equation}\n",
    "\\lambda_{\\mathrm{observed}} = \\lambda_{\\mathrm{emitted}} \\left( 1 + \\frac{v_{\\mathrm{radial}}}{c} \\right)\n",
    "\\end{equation}$\n",
    "\n",
    "Looking at a rotating accretion disk, we see gas moving towards us, away from us, and everything in between, and the net effect is a broad emission line whose width tells us the rotational velocity of the gas.\n",
    "\n",
    "### Your turn: Which of the two lines should we use to measure the black hole mass?"
   ]
  },
  {
   "cell_type": "code",
   "execution_count": null,
   "metadata": {},
   "outputs": [],
   "source": [
    "interactive_plot_spec = analyze_spectrum(False)\n",
    "output = interactive_plot_spec.children[-1]\n",
    "interactive_plot_spec"
   ]
  },
  {
   "cell_type": "markdown",
   "metadata": {},
   "source": [
    "As you move the sliders around, you will see that you can get the red line to fit the data quite well. This is very similar to how astronomers measure the velocity of gas in such lines by measuring the difference between the model (red line) and data. We call this [fitting a model to data](https://en.wikipedia.org/wiki/Regression_analysis).\n",
    "\n",
    "This works by first defining a function and then minimizing the distance between the model and data. This is done all the time to measure properties from the spectra, such as the line width, the redshift and the strength of different lines. Lets have a look how we can automate this measurement."
   ]
  },
  {
   "cell_type": "code",
   "execution_count": null,
   "metadata": {},
   "outputs": [],
   "source": [
    "##First, we define the model, this is the red line plotted above.\n",
    "def emlinecont(wl, cont, linepos, velocity, lineflux):\n",
    "        \"\"\"\n",
    "        A function describing a single emission line with continuum.\n",
    "        wl: wavelength\n",
    "        cont: continuum flux level\n",
    "        linepos: position of emission line\n",
    "        velocity: width of line in km/s\n",
    "        lineflux: flux of emission line\n",
    "        \"\"\"\n",
    "        sigma = (velocity*linepos)/(c/1000)\n",
    "        norm = lineflux*1000\n",
    "        line = (norm / (sigma * np.sqrt(2 * np.pi))) * np.exp(-((wl - linepos)** 2)/ (2 * sigma**2))\n",
    "        full = line+cont\n",
    "        return(full)"
   ]
  },
  {
   "cell_type": "markdown",
   "metadata": {},
   "source": [
    "Here, we have written down the model we would like to fit, now we need code to minimize the distance between the model and data. For this, we will use another toolbox, [scipy](https://en.wikipedia.org/wiki/SciPy), specifically [curve_fit](https://docs.scipy.org/doc/scipy/reference/generated/scipy.optimize.curve_fit.html)."
   ]
  },
  {
   "cell_type": "code",
   "execution_count": null,
   "metadata": {},
   "outputs": [],
   "source": [
    "from scipy.optimize import curve_fit"
   ]
  },
  {
   "cell_type": "markdown",
   "metadata": {},
   "source": [
    "The spectrum covered a lot of wavelength, but we really want to focus on a very narrow range, so let's \"cut\" out a small part of the spectrum. (This code is a bit more advanced!)"
   ]
  },
  {
   "cell_type": "code",
   "execution_count": null,
   "metadata": {},
   "outputs": [],
   "source": [
    "wlmask = (wavelength > 6950) & (wavelength < 7200) ## this create a mask to cut out everything between 6950-7200Angstroem\n",
    "fit_wl = wavelength[wlmask] ## cuts out the wavelength\n",
    "fit_flux = flux[wlmask]  ## cuts out the flux"
   ]
  },
  {
   "cell_type": "code",
   "execution_count": null,
   "metadata": {},
   "outputs": [],
   "source": [
    "## You can use plt.plot to check that this had worked"
   ]
  },
  {
   "cell_type": "markdown",
   "metadata": {},
   "source": [
    "We now have our **model** and our **data**, let's make a fit!\n",
    "\n",
    "Our function curve_fit need some information to work, let's have a look:\n",
    "\n",
    "`curve_fit(your model function, x, y, p0=*optional: your guess*)`\n",
    "\n",
    "So, we need to give the fitting function our own model function. This was the function\n",
    "\n",
    "`emlinecont`\n",
    "\n",
    "we defined earlier, we also need the data, the x and y, for this, we will be using the 'cut-out' of our spectrum. Let's try:"
   ]
  },
  {
   "cell_type": "code",
   "execution_count": null,
   "metadata": {},
   "outputs": [],
   "source": [
    "fit_results, cova = curve_fit(emlinecont, fit_wl, fit_flux)\n",
    "fit_results"
   ]
  },
  {
   "cell_type": "markdown",
   "metadata": {},
   "source": [
    "This functions first returs the results. I.e. this is what the function's best guess is for the four parameters,\n",
    "\n",
    "`continuum, line position, velocity, line flux`\n",
    "\n",
    "The second is the [covariance matrix](https://en.wikipedia.org/wiki/Covariance_matrix) which allows us the estimate the errors. This is quite advanced, so we will ignore this here.\n",
    "\n",
    "These results do not look right, we can check what the code has done using the code below:"
   ]
  },
  {
   "cell_type": "code",
   "execution_count": null,
   "metadata": {},
   "outputs": [],
   "source": [
    "plt.plot(fit_wl, fit_flux, c='k') ## plot the cut-out data\n",
    "plt.plot(fit_wl, emlinecont(fit_wl, *fit_results), c='r') ## plot the model fit\n",
    "plt.xlabel('Wavelength [$\\AA$]')\n",
    "plt.ylabel('Flux')"
   ]
  },
  {
   "cell_type": "markdown",
   "metadata": {},
   "source": [
    "This looks terrible! The reason is that the initial guess used is poor. We can improve this by giving the routine an initial guess.\n",
    "\n",
    "### Your turn: use the results from the interactive graph to get an initial guess!"
   ]
  },
  {
   "cell_type": "code",
   "execution_count": null,
   "metadata": {},
   "outputs": [],
   "source": [
    "my_cont = 1 ### enter your guess for my_cont\n",
    "my_pos = 1 ## enter your guess for my_pos\n",
    "my_vel = 1 ## enter your guess for the velocity\n",
    "my_flux = 1 ## enter youur guess for the flux\n",
    "## Next line fits again, but with your guess\n",
    "my_fit, my_cova = curve_fit(emlinecont, fit_wl, fit_flux, p0=[my_cont, my_pos, my_vel, my_flux])\n",
    "my_fit\n",
    "plt.plot(fit_wl, fit_flux, c='k') ## plot the cut-out data\n",
    "plt.plot(fit_wl, emlinecont(fit_wl, *fit_results), c='r') ## plot the model fit\n",
    "plt.xlabel('Wavelength [$\\AA$]')\n",
    "plt.ylabel('Flux')"
   ]
  },
  {
   "cell_type": "markdown",
   "metadata": {},
   "source": [
    "You should be able to get a good fit for the velocity.\n",
    "\n",
    "Methods like the one you just used are used to measure the properties of many thousands of objects at a time. We can simply automate code like the one we just wrote to go through a large number of objects. "
   ]
  },
  {
   "cell_type": "markdown",
   "metadata": {},
   "source": [
    "### Your turn: Let's measure the black hole mass!\n",
    "\n",
    "$\\begin{equation}\n",
    "M_{black hole}=\\dfrac{v^2\\times a}{G}\n",
    "\\end{equation}$\n",
    "\n",
    "The location of the gas emitting this line is at a distance of 200 lightdays or $6\\times10^{15}$m. (this value comes from [this scientific study](https://ui.adsabs.harvard.edu/abs/2019ApJ...885...44D/abstract)) The distance of the gas from the black hole is measured using [echo mapping](https://en.wikipedia.org/wiki/Reverberation_mapping), a method similar to that used by bats to map their environments!\n",
    "\n",
    "Write a function to calculate the black hole mass!"
   ]
  },
  {
   "cell_type": "code",
   "execution_count": null,
   "metadata": {},
   "outputs": [],
   "source": [
    "##type your own code here"
   ]
  },
  {
   "cell_type": "code",
   "execution_count": null,
   "metadata": {},
   "outputs": [],
   "source": [
    "##type your own code here"
   ]
  },
  {
   "cell_type": "code",
   "execution_count": null,
   "metadata": {},
   "outputs": [],
   "source": [
    "##type your own code here"
   ]
  },
  {
   "cell_type": "code",
   "execution_count": null,
   "metadata": {},
   "outputs": [],
   "source": [
    "##type your own code here"
   ]
  },
  {
   "cell_type": "markdown",
   "metadata": {},
   "source": [
    "Once you are done, you can type:\n",
    "\n",
    "`tellmetheblackholemass()`\n",
    "\n",
    "to get the correct answer. If you have gotten within a factor of a few, you have done a good job!"
   ]
  },
  {
   "cell_type": "code",
   "execution_count": null,
   "metadata": {},
   "outputs": [],
   "source": []
  },
  {
   "cell_type": "markdown",
   "metadata": {},
   "source": [
    "## 4. A whole Universe of feeding black holes.....\n",
    "\n",
    "You have just measured the mass of a supermassive black hole! But in fact, supermassive black holes are found in basically all massive galaxies. Our own galaxy, the Milky Way, [hosts as supermassive black hole in its centre](http://www.astro.ucla.edu/~ghezgroup/gc/animations.html). The measurement of its mass earned Profs [Andrea Ghez](https://en.wikipedia.org/wiki/Andrea_M._Ghez) and [Reinhard Genzel](https://en.wikipedia.org/wiki/Reinhard_Genzel) the Nobel Prize in Physics in 2020!\n",
    "\n",
    "In some galaxies, like the Milky Way, the black hole mass can be calculated by measuring the velocity of individual stars, [as you can see here](http://www.astro.ucla.edu/~ghezgroup/gc/animations.html), but in the vast majority of cases, the black hole masses are measured exactly the way you did above, using the gas velocities around a black hole. So, lets look at a large number of accreting black holes! We will have a look at 1000\\* of them from the same dataset we looked at, for these, the same analysis we did was done already by a [scientist](http://quasar.astro.illinois.edu/BH_mass/dr7.htm).\n",
    "\n",
    "<small>\\*There are in fact about 100 000 objects that have been analyzed in such a way, but we will limit this since the service we are using will be a bit slow with the full dataset."
   ]
  },
  {
   "cell_type": "code",
   "execution_count": null,
   "metadata": {},
   "outputs": [],
   "source": [
    "## This loads the data\n",
    "agndata = np.loadtxt('sdssagn.txt', delimiter=',')\n",
    "agnredshift = agndata[:,2] ## this loads the redshift\n",
    "agnbhmass = agndata[:,3] ## this loads the black hole masses on a logarithmic scale\n",
    "agnlum = agndata[:,4]-7 ## this loads the amaount of energy emitted on a logarithmic scale converted from erg/s to Watt"
   ]
  },
  {
   "cell_type": "code",
   "execution_count": null,
   "metadata": {},
   "outputs": [],
   "source": [
    "plt.plot(agnbhmass, agnlum, ls='None', marker='.')\n",
    "plt.xlabel('log10 of black hole mass in solar masses')\n",
    "plt.ylabel('log10 of energy emitted in W')"
   ]
  },
  {
   "cell_type": "markdown",
   "metadata": {},
   "source": [
    "What we see here is that supermassive black holes exist from about 10 million to 10 billion times the mass of the sun. We can also see that the amount of energy emitted by the accretion process is larger the larger the black hole is. This is because there is a [maximum amount of energy that can be emitted when a black hole is accreting](https://en.wikipedia.org/wiki/Eddington_luminosity), if there is more energy emitted, the accretion flow is blown apart!\n",
    "\n",
    "But how much energy are these accretion disks emitting? An incredible 10$^{38-41}$W!!! That is 100-100 000 billion times the energy emitted by the sun! This is enormous!\n",
    "\n",
    "That is why accreting black holes can be brighter than entire galaxies, as you can see from ['our accreting black hole'](http://skyserver.sdss.org/dr16/en/tools/chart/navi.aspx?ra=213.351149549948&dec=53.0908197984824) as well as [many](https://www.nasa.gov/content/goddard/nasas-hubble-gets-the-best-image-of-bright-quasar-3c-273/) [other](https://esahubble.org/images/opo9416a/) [accreting](https://hubblesite.org/contents/media/images/1996/35/455-Image.html?news=true) [black hole](https://www.nasa.gov/feature/goddard/2021/hubble-spots-double-quasars-in-merging-galaxies) [systems](https://www.nasa.gov/feature/goddard/2020/nasas-webb-to-study-quasars-and-their-host-galaxies-in-three-dimensions)!\n",
    "\n",
    "### Your turn: Make your own plot.\n",
    "\n",
    "In the file with the data, you will also find the [redshift](https://astronomy.swin.edu.au/cosmos/c/cosmological+redshift) as well as the position on the sky ([the right ascension and declination](https://skyandtelescope.org/astronomy-resources/right-ascension-declination-celestial-coordinates/), which you can use to find the objects on the sky). If you like, you can create your own plots!"
   ]
  },
  {
   "cell_type": "code",
   "execution_count": null,
   "metadata": {},
   "outputs": [],
   "source": [
    "##add your own plot here, try plotting redshift and luminosity"
   ]
  },
  {
   "cell_type": "markdown",
   "metadata": {},
   "source": [
    "## ....and quiet black holes!\n",
    "\n",
    "Unfortunately, for most galaxies, we cannot use the method using the gas near the black hole we used above. So, let's look at the properties of supermassive black holes in the universe! We will be looking at data from [this scientific study](https://ui.adsabs.harvard.edu/abs/2013ARA%26A..51..511K/abstract) by John Kormendy and Luis Ho.\n",
    "\n",
    "They collected the data of supermassive black holes for which both the mass of the black hole and properties of the galaxies they reside in are known.\n",
    "\n",
    "We will look at a famous relation between the mass of the black hole and the galaxy, known as the [M-$\\sigma$ relation](https://en.wikipedia.org/wiki/M%E2%80%93sigma_relation) "
   ]
  },
  {
   "cell_type": "code",
   "execution_count": null,
   "metadata": {},
   "outputs": [],
   "source": [
    "## Lets load some data\n",
    "blackholedata = np.loadtxt('KormendyHo2013Data.txt', dtype='str', delimiter=',')\n",
    "bulgemass = 10**np.array(blackholedata[:,9], dtype=float)\n",
    "bhmass = np.array(blackholedata[:,11], dtype=float)\n",
    "sigma = np.array(blackholedata[:,14], dtype=float)"
   ]
  },
  {
   "cell_type": "code",
   "execution_count": null,
   "metadata": {},
   "outputs": [],
   "source": [
    "plt.semilogy(sigma, bhmass, ls='None', marker='o')\n",
    "plt.xlim(0, 500)\n",
    "plt.ylabel('black hole mass in solar masses')\n",
    "plt.xlabel('average velocity of stars in bulge [km/s]')"
   ]
  },
  {
   "cell_type": "markdown",
   "metadata": {},
   "source": [
    "We see here that the [velocity dispersion](https://en.wikipedia.org/wiki/Velocity_dispersion), which is a measure of the mass in the bulge component of the galaxy.\n",
    "\n",
    "So, what does this plot tell us? We see that the mass of the black hole is connected to the properties of the galaxy. This is actually a very surprising finding! While the black hole is massive, its mass is still very small compared to the galaxy. The relation above has led astronomers to understand that the vast amounts of energy emitted by the black hole may in fact impact on star formation across the galaxy.\n",
    "\n",
    "### Your turn: how massive is the black hole really?\n",
    "\n",
    "For this dataset, I have also loaded the mass in the bulge, try plotting this against the black hole mass. You can also calculate how much smaller the black hole is than the galaxy bulge. (try e.g. bhmass+bulgemass to see what happens!, you can calculate with these variables just like you would with numbers)"
   ]
  },
  {
   "cell_type": "code",
   "execution_count": null,
   "metadata": {},
   "outputs": [],
   "source": [
    "##your code here"
   ]
  },
  {
   "cell_type": "code",
   "execution_count": null,
   "metadata": {},
   "outputs": [],
   "source": [
    "##your code here"
   ]
  },
  {
   "cell_type": "code",
   "execution_count": null,
   "metadata": {},
   "outputs": [],
   "source": [
    "##your code here"
   ]
  },
  {
   "cell_type": "markdown",
   "metadata": {},
   "source": [
    "# <u> Conclusion\n",
    "    \n",
    "In this notebook, you should have learned some of the ways in which we use coding in scientific research, and some of the main methods, like functions. The links in the notbook lead you to more ressources to learn more!\n",
    "    \n",
    "You also learned how to measure black hole masses and measured your own black hole mass!\n",
    "\n",
    "[We hope you had fun!](https://xkcd.com/353/)\n",
    "    \n",
    "**Remember to download your modified notebook using the download button**"
   ]
  }
 ],
 "metadata": {
  "kernelspec": {
   "display_name": "Python 3",
   "language": "python",
   "name": "python3"
  },
  "language_info": {
   "codemirror_mode": {
    "name": "ipython",
    "version": 3
   },
   "file_extension": ".py",
   "mimetype": "text/x-python",
   "name": "python",
   "nbconvert_exporter": "python",
   "pygments_lexer": "ipython3",
   "version": "3.6.12"
  }
 },
 "nbformat": 4,
 "nbformat_minor": 4
}
