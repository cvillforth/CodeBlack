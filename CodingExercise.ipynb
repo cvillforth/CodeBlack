{
 "cells": [
  {
   "cell_type": "markdown",
   "metadata": {},
   "source": [
    "# <u>Bath Physics '21 Conference\n",
    "\n",
    "# Coding Exercise - Weighing supermassive black holes\n",
    "    \n",
    "Author: Dr Carolin Villforth\n",
    "    \n",
    "Astronomical research often used coding to analyse data, work with large datasets or simulate the Universe. In this notebook, we will weigh a supermassive black hole using coding as a tool. We want to show you how coding is used in research.\n",
    "    \n",
    "In this Jupyter notebook, we will go through the simple basics of coding and how we can use coding to do science. We will be using [Jupyter notebooks](https://jupyter.org/), which use the programming language [Python](https://www.python.org/). Python is used very widely in astronomy, and many large institutions like the [Hubble Space Telescope (HST)](https://hubblesite.org/), LIGO and others use Python widely.\n",
    "    \n",
    "    \n",
    "\n",
    "<u><b>A few links for those of you who would like to go further:</b>\n",
    "\n",
    "<u>General ressources for starting to code:\n",
    "\n",
    "- [Software Carpentry - General](https://software-carpentry.org/lessons/)\n",
    "\n",
    "- [Software Carpentry - Python](https://swcarpentry.github.io/python-novice-inflammation/)\n",
    "\n",
    "- [Install python on your own computer](https://docs.anaconda.com/anaconda/install/)\n",
    "\n",
    "\n",
    "<u>Notebooks like this one, but going through more advanced data analysis:\n",
    "\n",
    "- [Analyse graviational waves](https://www.gw-openscience.org/GW150914data/GW150914_tutorial.html)\n",
    "\n",
    "\n",
    "    \n",
    "\n",
    "<b>Let's get started....."
   ]
  },
  {
   "cell_type": "markdown",
   "metadata": {},
   "source": [
    "## Why we use coding in science\n",
    "\n",
    "Coding is now a central in much of research, here we want to show you some simple steps. By the end of this notebook, you will have measured the mass of a black hole and visualized the properties of a large sample of black holes.\n",
    "\n",
    "In astrophysics, we use coding for...\n",
    "\n",
    "- dealing with large datasets\n",
    "\n",
    "- performing complex calculations\n",
    "\n",
    "- solving equations for which there is no analytical solution\n",
    "\n",
    "- visualizing data\n",
    "\n",
    "Here, we will show you examples of such uses. "
   ]
  },
  {
   "cell_type": "markdown",
   "metadata": {},
   "source": [
    "## 1. Coding Basics"
   ]
  },
  {
   "cell_type": "markdown",
   "metadata": {},
   "source": [
    "Throughout this notebook, you will see cells like this one here, these are cods cells, and what is written in these cells will be 'executed', i.e. it will be sent to the computer and the computer will then complete your command. Let's try this out."
   ]
  },
  {
   "cell_type": "code",
   "execution_count": 1,
   "metadata": {},
   "outputs": [
    {
     "name": "stdout",
     "output_type": "stream",
     "text": [
      "Hello world\n"
     ]
    }
   ],
   "source": [
    "#everything after a hash is a comment and will be ignored by the computer\n",
    "#Let's tell the computer to say something, press the run button above to see.\n",
    "print(\"Hello world\")"
   ]
  },
  {
   "cell_type": "code",
   "execution_count": 2,
   "metadata": {},
   "outputs": [
    {
     "name": "stdout",
     "output_type": "stream",
     "text": [
      "<add name here> is coding!\n"
     ]
    }
   ],
   "source": [
    "#Nice! You can modify this to print your own name\n",
    "print(\"<add name here> is coding!\")"
   ]
  },
  {
   "cell_type": "code",
   "execution_count": 3,
   "metadata": {},
   "outputs": [
    {
     "data": {
      "text/plain": [
       "4"
      ]
     },
     "execution_count": 3,
     "metadata": {},
     "output_type": "execute_result"
    }
   ],
   "source": [
    "#We can also use this to perform calculations\n",
    "2+2"
   ]
  },
  {
   "cell_type": "code",
   "execution_count": 4,
   "metadata": {},
   "outputs": [
    {
     "data": {
      "text/plain": [
       "8"
      ]
     },
     "execution_count": 4,
     "metadata": {},
     "output_type": "execute_result"
    }
   ],
   "source": [
    "2**3"
   ]
  },
  {
   "cell_type": "code",
   "execution_count": 5,
   "metadata": {},
   "outputs": [
    {
     "data": {
      "text/plain": [
       "1.5"
      ]
     },
     "execution_count": 5,
     "metadata": {},
     "output_type": "execute_result"
    }
   ],
   "source": [
    "3/2"
   ]
  },
  {
   "cell_type": "code",
   "execution_count": 6,
   "metadata": {},
   "outputs": [],
   "source": [
    "## This is great, but we might want to store the result of our calculation for further use.\n",
    "a = 2+2"
   ]
  },
  {
   "cell_type": "code",
   "execution_count": 7,
   "metadata": {},
   "outputs": [
    {
     "data": {
      "text/plain": [
       "4"
      ]
     },
     "execution_count": 7,
     "metadata": {},
     "output_type": "execute_result"
    }
   ],
   "source": [
    "a"
   ]
  },
  {
   "cell_type": "code",
   "execution_count": 8,
   "metadata": {},
   "outputs": [
    {
     "data": {
      "text/plain": [
       "8"
      ]
     },
     "execution_count": 8,
     "metadata": {},
     "output_type": "execute_result"
    }
   ],
   "source": [
    "a+4"
   ]
  },
  {
   "cell_type": "code",
   "execution_count": 9,
   "metadata": {},
   "outputs": [],
   "source": [
    "#These are basic import for libraries we need for Python\n",
    "import numpy as np\n",
    "import matplotlib.pyplot as plt\n",
    "%matplotlib inline"
   ]
  },
  {
   "cell_type": "markdown",
   "metadata": {},
   "source": [
    "## 2. Approaching black holes\n"
   ]
  },
  {
   "cell_type": "code",
   "execution_count": 10,
   "metadata": {},
   "outputs": [],
   "source": [
    "## Here, we are defining some parameters\n",
    "G = 6.67e-11 #units are m^3 kg^-1 s^-2\n",
    "M_sun = 1.99e30 #units is kg\n",
    "au = 1.5e11 # the distance of the earth to the sun in m\n",
    "ly = 9.46e15 # lightyear in m\n",
    "c = 2.998e8 # speed of light in m/s "
   ]
  },
  {
   "cell_type": "code",
   "execution_count": 11,
   "metadata": {},
   "outputs": [],
   "source": [
    "def kepler_velocity(a, M):\n",
    "    \"\"\"\n",
    "    This function calculated the velocity given a semi-major axis a and mass of the central object M.\n",
    "    a: semi-major axis in meters\n",
    "    M: central mass in kg\n",
    "    returns: velocity in m/s\n",
    "    \"\"\"\n",
    "    v = np.sqrt(G*M/a)\n",
    "    return v"
   ]
  },
  {
   "cell_type": "code",
   "execution_count": 12,
   "metadata": {},
   "outputs": [],
   "source": [
    "def schwarzschild(Mbh):\n",
    "    \"\"\"\n",
    "    This function calculated the Schwarzschild radius of a black hole\n",
    "    MBh: black hole mass in kg\n",
    "    returns: Schwarzschild radius in m\n",
    "    \"\"\"\n",
    "    rs = 2*G*Mbh/(c**2)\n",
    "    return rs"
   ]
  },
  {
   "cell_type": "markdown",
   "metadata": {},
   "source": [
    "We can now use this simple function to calculate the rotation velocity of material around any objects, let's start with Earth:"
   ]
  },
  {
   "cell_type": "code",
   "execution_count": 13,
   "metadata": {},
   "outputs": [
    {
     "name": "stdout",
     "output_type": "stream",
     "text": [
      "29747.04467113778\n"
     ]
    }
   ],
   "source": [
    "speed_earth = kepler_velocity(1.5e11, 1.99e30)\n",
    "print(speed_earth)"
   ]
  },
  {
   "cell_type": "markdown",
   "metadata": {},
   "source": [
    "The strength of such function is that we can also calculate the speeds of all the planets as they orbit the sun. Let's give it a try."
   ]
  },
  {
   "cell_type": "code",
   "execution_count": 14,
   "metadata": {},
   "outputs": [
    {
     "data": {
      "text/plain": [
       "array([47811.48578258, 29747.04467114])"
      ]
     },
     "execution_count": 14,
     "metadata": {},
     "output_type": "execute_result"
    }
   ],
   "source": [
    "a_mercury = 0.3871*au\n",
    "#a_venus =\n",
    "a_earth = au\n",
    "#a_mars =\n",
    "#a_jupiter = \n",
    "#a_saturn =\n",
    "#a_neptune = \n",
    "#a_pluto = \n",
    "a_solarsystem = np.array([a_mercury, a_earth])\n",
    "kepler_velocity(a_solarsystem, M_sun)"
   ]
  },
  {
   "cell_type": "code",
   "execution_count": 15,
   "metadata": {},
   "outputs": [],
   "source": [
    "import visualisations"
   ]
  },
  {
   "cell_type": "code",
   "execution_count": 25,
   "metadata": {},
   "outputs": [
    {
     "data": {
      "application/vnd.jupyter.widget-view+json": {
       "model_id": "0f349a13e0634b918151f9cdc05827c1",
       "version_major": 2,
       "version_minor": 0
      },
      "text/plain": [
       "interactive(children=(FloatSlider(value=100.0, description='distance from BH', readout_format='.1f'), FloatSli…"
      ]
     },
     "metadata": {},
     "output_type": "display_data"
    }
   ],
   "source": [
    "interactive_plot=visualisations.bh_interactive(False)\n",
    "output = interactive_plot.children[-1]\n",
    "interactive_plot"
   ]
  },
  {
   "cell_type": "markdown",
   "metadata": {},
   "source": [
    "## 3. The spectrum of a feeding black hole\n",
    "\n",
    "-show spectrum\n",
    "-explain lines\n",
    "-fit line"
   ]
  },
  {
   "cell_type": "markdown",
   "metadata": {},
   "source": [
    "## 4. A whole Universe of feeding black holes\n",
    "\n",
    "-load a large number of datapoints\n",
    "-make a plot"
   ]
  },
  {
   "cell_type": "code",
   "execution_count": 17,
   "metadata": {},
   "outputs": [],
   "source": [
    "## Lets load some data\n",
    "blackholedata = np.loadtxt('KormendyHo2013Data.txt', dtype='str', delimiter=',')\n",
    "bulgemass = np.array(blackholedata[:,9], dtype=float)\n",
    "bhmass = np.array(blackholedata[:,11], dtype=float)\n",
    "sigma = np.array(blackholedata[:,14], dtype=float)"
   ]
  },
  {
   "cell_type": "code",
   "execution_count": 18,
   "metadata": {},
   "outputs": [
    {
     "data": {
      "text/plain": [
       "Text(0.5, 0, '')"
      ]
     },
     "execution_count": 18,
     "metadata": {},
     "output_type": "execute_result"
    },
    {
     "data": {
      "image/png": "[encoded data removed]",
      "text/plain": [
       "<Figure size 432x288 with 1 Axes>"
      ]
     },
     "metadata": {
      "needs_background": "light"
     },
     "output_type": "display_data"
    }
   ],
   "source": [
    "plt.loglog(10**bulgemass, bhmass, ls='None', marker='o')\n",
    "plt.xlim(1e9, 1e12)\n",
    "plt.xlabel('')"
   ]
  },
  {
   "cell_type": "code",
   "execution_count": 19,
   "metadata": {},
   "outputs": [
    {
     "data": {
      "text/plain": [
       "array([   9.05,   11.84,   11.27,   10.65,   11.5 ,   11.74,   11.33,\n",
       "         10.26,   11.06,   11.61,   10.5 ,   10.91,   11.26,   11.01,\n",
       "         11.77,   11.65,   10.85,   11.62,   11.51,   10.88,   11.84,\n",
       "         10.85,   11.72,   10.04,    9.64,   11.64,   10.97,   11.16,\n",
       "         12.09,   11.28,   11.05,   11.65,   11.6 ,   11.  ,   10.57,\n",
       "         11.69,   11.88,   11.25,   11.61,   11.65,   11.75,   11.6 ,\n",
       "       -999.  ,   11.81,   11.78, -999.  ])"
      ]
     },
     "execution_count": 19,
     "metadata": {},
     "output_type": "execute_result"
    }
   ],
   "source": [
    "bulgemass"
   ]
  },
  {
   "cell_type": "code",
   "execution_count": null,
   "metadata": {},
   "outputs": [],
   "source": []
  },
  {
   "cell_type": "code",
   "execution_count": null,
   "metadata": {},
   "outputs": [],
   "source": []
  }
 ],
 "metadata": {
  "kernelspec": {
   "display_name": "Python 3",
   "language": "python",
   "name": "python3"
  },
  "language_info": {
   "codemirror_mode": {
    "name": "ipython",
    "version": 3
   },
   "file_extension": ".py",
   "mimetype": "text/x-python",
   "name": "python",
   "nbconvert_exporter": "python",
   "pygments_lexer": "ipython3",
   "version": "3.6.12"
  }
 },
 "nbformat": 4,
 "nbformat_minor": 4
}
