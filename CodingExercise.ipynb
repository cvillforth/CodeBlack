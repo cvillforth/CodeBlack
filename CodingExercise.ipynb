{
 "cells": [
  {
   "cell_type": "markdown",
   "metadata": {},
   "source": [
    "# <u>Bath Physics '21 Conference\n",
    "\n",
    "# Coding Exercise - Weighing supermassive black holes\n",
    "    \n",
    "Author: Dr Carolin Villforth\n",
    "    \n",
    "Astronomical research often used coding to analyse data, work with large datasets or simulate the Universe. In this notebook, we will weigh a supermassive black hole using coding as a tool. We want to show you how coding is used in research and teach you about super massive black hole masses as we go along. For those who are inspired to explore the science or coding further, we will add links throughout.\n",
    "    \n",
    "In this Jupyter notebook, we will go through the simple basics of coding and how we can use coding to do science. We will be using [Jupyter notebooks](https://jupyter.org/), which use the programming language [Python](https://www.python.org/). Python is used very widely in astronomy, and many large institutions like the [Hubble Space Telescope (HST)](https://hubblesite.org/), LIGO and others use Python widely.\n",
    "    \n",
    "    \n",
    "\n",
    "<u><b>A few links for those of you who would like to go further:</b>\n",
    "\n",
    "<u>General ressources for starting to code:\n",
    "\n",
    "- [Software Carpentry - General](https://software-carpentry.org/lessons/)\n",
    "\n",
    "- [Software Carpentry - Python](https://swcarpentry.github.io/python-novice-inflammation/)\n",
    "\n",
    "- [Install python on your own computer](https://docs.anaconda.com/anaconda/install/), you will need to install this if you would like to use this notebook locally.\n",
    "\n",
    "\n",
    "<u>Notebooks like this one, but going through more advanced data analysis:\n",
    "\n",
    "- [Analyse graviational waves](https://www.gw-openscience.org/GW150914data/GW150914_tutorial.html)\n",
    "\n",
    "\n",
    "    \n",
    "\n",
    "<b>Let's get started....."
   ]
  },
  {
   "cell_type": "markdown",
   "metadata": {},
   "source": [
    "## Why we use coding in science\n",
    "\n",
    "Coding is now a central in much of research, here we want to show you some simple steps. By the end of this notebook, you will have measured the mass of a black hole and visualized the properties of a large sample of black holes.\n",
    "\n",
    "In general, [coding - or programming-](https://en.wikipedia.org/wiki/Computer_programming) refers to designing a computer program that performs calculations or executes tasks. For example, we might write code to perform a large number of calculations faster than could be done in your head or using a calculator. Alternatively, we moght use coding to control equipment, such as telescopes! To achieve this, we need to write down instructions to the computer how the calculations or tasks should be executed. We do this using a programming language, that is a language the computers will understand. There are a range of different programming languages out there, which differ in their syntax (which is a bit like grammar) and the tasks they are good at. Many of the principles however are similar across languages, so learning one makes it easier to learn others. Here we will be using [Python](https://www.python.org/), which is very popular in science. In astrophysics, we use coding for...\n",
    "\n",
    "- <b>dealing with large datasets</b>: many of our datasets contain millions of objects, we need coding to perform even simple calculations. An example is the [Sloan Digital Sky Survey](https://www.sdss.org/) which has surveyed over half of the sky and mapped millions of galaxies and accretion black holes (we will be using some of this data ourselves very soon!).\n",
    "\n",
    "- <b>performing complex calculations</b>: the Universe is extremely large, and the physics involved for example in galaxy evolution is very complex and we need to take into account a lot of difficult physics. Simulations of the Universe require many months on extremely powerful supercomputers to perform such complex simulations. Examples of such powerful calculations of the entire Universe include [IllustrisTNG](https://www.tng-project.org/), [EAGLE](http://icc.dur.ac.uk/Eagle/index.php), [Horizon](https://www.horizon-simulation.org/about.html) and others. You can find many great videos of the evolving universe on the linked pages, for example [here](http://www.tng-project.org/movies/tng/tng300_most_massive_cluster_gas_1080p.mp4)\n",
    "\n",
    "- <b>visualizing data</b>: as we have already mentioned, we often have access to very large datasets and need to show them in figures, we can also do this using programming, and will do so below. Some cool visualizations include [this \"flythrough\" of the universe](http://www.sdss3.org/press/dr9.php), [an exoplanet visualization](https://www.ianww.com/blog/2013/03/25/kepler-exoplanet-visualization/) or many others.\n",
    "\n",
    "Today, we will go through simple examples of such uses and measure the mass of a black hole!\n",
    "\n",
    "But first..."
   ]
  },
  {
   "cell_type": "markdown",
   "metadata": {},
   "source": [
    "## 0. How to use this notebook\n",
    "\n",
    "You can perform most of the tasks in this notebook without writing your own code, but by running and interactingf with the code that is pre-written. Like this, you can learn about the science and also see how we can use coding in research. If you are interested in doing more, you will find opportunities to write your own code in all parts, they are marked as \"your turn\". There are also plenty of links to online tutorials. "
   ]
  },
  {
   "cell_type": "markdown",
   "metadata": {},
   "source": [
    "## 1. Coding Basics"
   ]
  },
  {
   "cell_type": "markdown",
   "metadata": {},
   "source": [
    "Before we can get started, let us start with some basics. We will not have time to really teach you to code, if are are interested in learning more, check the links at the very top of this notebook. \n",
    "\n",
    "The few basics we will be going through here are:\n",
    "\n",
    "- how to use notebooks\n",
    "\n",
    "- running cells (i.e. sending instructions to the computer)\n",
    "\n",
    "- assigments\n",
    "\n",
    "Once we get started with the science, we will also cover functions, a great way to automize calculations.\n",
    "\n",
    "### 1.1 Getting started\n",
    "\n",
    "Throughout this notebook, you will see cells like this one here, these are cods cells, and what is written in these cells will be 'executed', i.e. it will be sent to the computer and the computer will then complete your command. You can control all of this using the command bar at the top of your notebook, it looks like this. You can see here the explanation of the most important features.\n",
    "\n",
    "![](manual.png)\n",
    "\n",
    "Let's try this out."
   ]
  },
  {
   "cell_type": "code",
   "execution_count": 1,
   "metadata": {},
   "outputs": [
    {
     "name": "stdout",
     "output_type": "stream",
     "text": [
      "Hello world\n"
     ]
    }
   ],
   "source": [
    "#everything after a hash is a comment and will be ignored by the computer\n",
    "#Let's tell the computer to say something, press the run button above to see.\n",
    "print(\"Hello world\")"
   ]
  },
  {
   "cell_type": "code",
   "execution_count": 2,
   "metadata": {},
   "outputs": [
    {
     "name": "stdout",
     "output_type": "stream",
     "text": [
      "<add name here> is coding!\n"
     ]
    }
   ],
   "source": [
    "#Nice! You can modify this to print your own name\n",
    "print(\"<add name here> is coding!\")"
   ]
  },
  {
   "cell_type": "markdown",
   "metadata": {},
   "source": [
    "Here, you see that we have written the text in quote marks, this tells the computer that we are sending so called \"strings\", these are interpreted by the computer as text. You can find more on strings [here](https://docs.python.org/3/tutorial/introduction.html#strings), though they will be of limited use for our exercise.\n",
    "\n",
    "You also see that we have written the code itself and then comments, after a hashtag, these are comments, i.e. you can write what you like and the computer will ignore it."
   ]
  },
  {
   "cell_type": "markdown",
   "metadata": {},
   "source": [
    "### 1.2 Calculations\n",
    "\n",
    "We will want to use Python to do some calculations, so to get started, let's make some calculations. You can find more details [here](https://docs.python.org/3/tutorial/introduction.html#using-python-as-a-calculator)"
   ]
  },
  {
   "cell_type": "code",
   "execution_count": 3,
   "metadata": {},
   "outputs": [
    {
     "data": {
      "text/plain": [
       "4"
      ]
     },
     "execution_count": 3,
     "metadata": {},
     "output_type": "execute_result"
    }
   ],
   "source": [
    "#Let's calculate\n",
    "2+2"
   ]
  },
  {
   "cell_type": "code",
   "execution_count": 4,
   "metadata": {},
   "outputs": [
    {
     "data": {
      "text/plain": [
       "8"
      ]
     },
     "execution_count": 4,
     "metadata": {},
     "output_type": "execute_result"
    }
   ],
   "source": [
    "2**3"
   ]
  },
  {
   "cell_type": "code",
   "execution_count": 5,
   "metadata": {},
   "outputs": [
    {
     "data": {
      "text/plain": [
       "1.5"
      ]
     },
     "execution_count": 5,
     "metadata": {},
     "output_type": "execute_result"
    }
   ],
   "source": [
    "3/2"
   ]
  },
  {
   "cell_type": "code",
   "execution_count": 6,
   "metadata": {},
   "outputs": [
    {
     "data": {
      "text/plain": [
       "1000.0"
      ]
     },
     "execution_count": 6,
     "metadata": {},
     "output_type": "execute_result"
    }
   ],
   "source": [
    "##We will be using powers a lot, below is code that means 1 times 10 to the power of three\n",
    "1e3"
   ]
  },
  {
   "cell_type": "markdown",
   "metadata": {},
   "source": [
    "#### Your turn: Divide 5.9 Billion by 300 000. (Pluto is at a distance of 5.9 Billion km from the sun, the speed of light is 300 000 km/s, so this gives you the time it takes light from the sun to reach Pluto in seconds)"
   ]
  },
  {
   "cell_type": "code",
   "execution_count": null,
   "metadata": {},
   "outputs": [],
   "source": []
  },
  {
   "cell_type": "markdown",
   "metadata": {},
   "source": [
    "### 1.3 Variables\n",
    "\n",
    "So far so good, but this is not much better than using a calculator, to really get the best of Python, we will need variables, you can find a longer explanation of them [here](https://realpython.com/python-variables/).\n",
    "\n",
    "What we will be doing here is storing the result of our calculation in the variable a. We will be using this later on a lot."
   ]
  },
  {
   "cell_type": "code",
   "execution_count": 7,
   "metadata": {},
   "outputs": [],
   "source": [
    "## This is great, but we might want to store the result of our calculation for further use.\n",
    "a = 2+2"
   ]
  },
  {
   "cell_type": "code",
   "execution_count": 8,
   "metadata": {},
   "outputs": [
    {
     "data": {
      "text/plain": [
       "4"
      ]
     },
     "execution_count": 8,
     "metadata": {},
     "output_type": "execute_result"
    }
   ],
   "source": [
    "a"
   ]
  },
  {
   "cell_type": "code",
   "execution_count": 9,
   "metadata": {},
   "outputs": [
    {
     "data": {
      "text/plain": [
       "8"
      ]
     },
     "execution_count": 9,
     "metadata": {},
     "output_type": "execute_result"
    }
   ],
   "source": [
    "a+4"
   ]
  },
  {
   "cell_type": "markdown",
   "metadata": {},
   "source": [
    "#### Your turn: Define values b = 7, c = 9 and add them."
   ]
  },
  {
   "cell_type": "code",
   "execution_count": null,
   "metadata": {},
   "outputs": [],
   "source": []
  },
  {
   "cell_type": "markdown",
   "metadata": {},
   "source": [
    "### 1.4 Functions: automating your calculations\n",
    "\n",
    "Another very common feature we use commonly are functions. These are collections of code that perform a task or set of calculations given an input and often return an output. You can learn more about how to define functions [here](https://realpython.com/defining-your-own-python-function/#functions-in-python).\n",
    "\n",
    "Let's get started with a very simple function (we will be writing up some much more useful functions to weigh black holes later on)."
   ]
  },
  {
   "cell_type": "code",
   "execution_count": 10,
   "metadata": {},
   "outputs": [],
   "source": [
    "def addnumbers(a,b):\n",
    "    added = a+b \n",
    "    return(added)"
   ]
  },
  {
   "cell_type": "markdown",
   "metadata": {},
   "source": [
    "Ok, so what have we done here, we have defined a function that adds two numbers. Of course this is a bit silly, but it allows us to practice for more useful functions later on.\n",
    "\n",
    "Let's go through this line by line.\n",
    "\n",
    "`def addnumbers(a,b):`\n",
    "\n",
    "This line starts our function, here we **define (def)** a function names **addnumbers** that takes the input values a and b.\n",
    "\n",
    "The next line you can see is indented, i.e. shifted to the right. This is Python's way of indicating that any code indented as such after the definition 'belongs' to the function.\n",
    "\n",
    "`   added = a+b`\n",
    "    \n",
    "This line does a simple calculation, as we did before and adds up the two input values a and b.\n",
    "\n",
    "`   return(added)`\n",
    "\n",
    "The final line now **returns** the added values.\n",
    "\n",
    "Ok, so how do we use this function. Let's add two numbers, 1 and 3, we do this as follows."
   ]
  },
  {
   "cell_type": "code",
   "execution_count": 11,
   "metadata": {},
   "outputs": [
    {
     "data": {
      "text/plain": [
       "4"
      ]
     },
     "execution_count": 11,
     "metadata": {},
     "output_type": "execute_result"
    }
   ],
   "source": [
    "addnumbers(1,3)"
   ]
  },
  {
   "cell_type": "markdown",
   "metadata": {},
   "source": [
    "### 1.5 Getting help - using modules\n",
    "\n",
    "We can write extremely powerful code using the basic caculations, but we can also get help from python by importing modules. These are collections of code we can make use of. Think of them like boxes of tools we can make use of once we have imported them."
   ]
  },
  {
   "cell_type": "code",
   "execution_count": 12,
   "metadata": {},
   "outputs": [],
   "source": [
    "import numpy as np"
   ]
  },
  {
   "cell_type": "markdown",
   "metadata": {},
   "source": [
    "imports the toolbox numpy and names it np (this is common practice). We can now access tools from numpy as follows:"
   ]
  },
  {
   "cell_type": "code",
   "execution_count": 13,
   "metadata": {},
   "outputs": [
    {
     "data": {
      "text/plain": [
       "2.0"
      ]
     },
     "execution_count": 13,
     "metadata": {},
     "output_type": "execute_result"
    }
   ],
   "source": [
    "np.log10(100)"
   ]
  },
  {
   "cell_type": "markdown",
   "metadata": {},
   "source": [
    "Here, we have used the function np.log10. This is a function much like the one we wrote ourselves, and the np. indicates that this function lives within the imported module. We can use it just like we did our own functions."
   ]
  },
  {
   "cell_type": "code",
   "execution_count": 14,
   "metadata": {},
   "outputs": [],
   "source": [
    "#These are some additional imports we need\n",
    "import matplotlib.pyplot as plt\n",
    "%matplotlib inline\n",
    "from visualisations import bh_interactive, analyze_spectrum, tellmetheblackholemass"
   ]
  },
  {
   "cell_type": "markdown",
   "metadata": {},
   "source": [
    "## 2. Approaching black holes\n",
    "\n",
    "Now that we have learned some of the basics of Python, let's get started with some science. We will be talking about supermassive black holes, these are present in the centers of basically all massive galaxies. Supermassive black holes have masses of millions to billions times the mass of our own sun, which itself weights $2\\times10^{30}$kg. We know of supermassive black holes mainly when they actively accrete, i.e. when matter falls in and lights up. If you want to learn more about the background science, you can watch a short 15min talk [here](https://youtu.be/4wcTbRn3gNM).\n",
    "\n",
    "### From the solar system....\n",
    "\n",
    "But how we can possibly measure the mass of such as supermassive black hole? Let's start by considering how we measure the mass of the sun in our own solar system. You will have learned that [Kepler's laws](https://en.wikipedia.org/wiki/Kepler%27s_laws_of_planetary_motion) determine the motion of planets in the solar system.\n",
    "\n",
    "Particularly, let's look at Kepler's third law:\n",
    "\n",
    "$\\begin{equation}\n",
    "\\dfrac{a^3}{T^2}=\\dfrac{G(M+m)}{4\\pi^2}\n",
    "\\end{equation}$\n",
    "\n",
    "where a is the semi-major axis, this is the distance between the planet and sun (this is called the Astronomical Unit for the earth). T is the period (this is a year for earth). G is the graviational constant, M is the mass of the sun, and m the mass of the planet.\n",
    "\n",
    "Since we know that the planet travels around the star within a period T at the distance a, we can then also calculate the Keplerian velocity v of the planet.\n",
    "\n",
    "$\\begin{equation}\n",
    "v=\\sqrt{\\dfrac{G*(M+m)}{a}}\n",
    "\\end{equation}$\n",
    "\n",
    "And if we have a situation where the mass of the planet is very small compared to the sun, then:\n",
    "\n",
    "$\\begin{equation}\n",
    "M+m \\approx M\n",
    "\\end{equation}$\n",
    "\n",
    "and \n",
    "\n",
    "$\\begin{equation}\n",
    "v=\\sqrt{\\dfrac{G*M}{a}}\n",
    "\\end{equation}$\n",
    "\n",
    "So, let's calculate how fast the earth is rotating around the sun!"
   ]
  },
  {
   "cell_type": "code",
   "execution_count": 15,
   "metadata": {},
   "outputs": [],
   "source": [
    "## Here, we are defining some parameters\n",
    "G = 6.67e-11 #units are m^3 kg^-1 s^-2\n",
    "M_sun = 1.99e30 #units is kg\n",
    "au = 1.5e11 # the distance of the earth to the sun in m\n",
    "ly = 9.46e15 # lightyear in m\n",
    "c = 2.998e8 # speed of light in m/s "
   ]
  },
  {
   "cell_type": "code",
   "execution_count": 16,
   "metadata": {},
   "outputs": [],
   "source": [
    "def kepler_velocity(a, M):\n",
    "    \"\"\"\n",
    "    This function calculated the velocity given a semi-major axis a and mass of the central object M.\n",
    "    a: semi-major axis in meters\n",
    "    M: central mass in kg\n",
    "    returns: velocity in m/s\n",
    "    \"\"\"\n",
    "    v = np.sqrt(G*M/a)\n",
    "    return v"
   ]
  },
  {
   "cell_type": "markdown",
   "metadata": {},
   "source": [
    "We can now use this simple function to calculate the rotation velocity of material around any objects, let's start with Earth:"
   ]
  },
  {
   "cell_type": "code",
   "execution_count": 17,
   "metadata": {},
   "outputs": [
    {
     "name": "stdout",
     "output_type": "stream",
     "text": [
      "29747.04467113778\n"
     ]
    }
   ],
   "source": [
    "speed_earth = kepler_velocity(1.5e11, 1.99e30)\n",
    "print(speed_earth)"
   ]
  },
  {
   "cell_type": "markdown",
   "metadata": {},
   "source": [
    "The strength of such function is that we can also calculate the speeds of all the planets as they orbit the sun. Let's give it a try."
   ]
  },
  {
   "cell_type": "code",
   "execution_count": 18,
   "metadata": {},
   "outputs": [
    {
     "data": {
      "text/plain": [
       "array([47811.48578258, 29747.04467114])"
      ]
     },
     "execution_count": 18,
     "metadata": {},
     "output_type": "execute_result"
    }
   ],
   "source": [
    "a_mercury = 0.3871*au\n",
    "#a_venus =\n",
    "a_earth = au\n",
    "#a_mars =\n",
    "#a_jupiter = \n",
    "#a_saturn =\n",
    "#a_neptune = \n",
    "#a_pluto = \n",
    "a_solarsystem = np.array([a_mercury, a_earth])\n",
    "kepler_velocity(a_solarsystem, M_sun)"
   ]
  },
  {
   "cell_type": "markdown",
   "metadata": {},
   "source": [
    "### ..... to supermassive black holes\n",
    "\n",
    "So how does this all relate to black holes? [Black holes](https://en.wikipedia.org/wiki/Black_hole) are massive objects, so the basic physics behind Kepler's law holds. Therefore, the calculations we have made would also apply to supermassive black holes the same way they apply to planets.\n",
    "\n",
    "The cell below will create an interactive graph that allows you to explore the rotation velocity of material around the black hole. Move the sliders at the top to change the black hole mass (on a logarithmic scale, so 6 is 1 million solar masses ($10^6$), 7 is 10 million ($10^7$) and 9 is 1 billion ($10^9$)). You can also change the distance from the black hole, to make this relatble, the distance is given is astronomical units (the distance between earth and sun).\n",
    "\n",
    "You will see that if you get to close to the black hole, you will be swallowed by the black hole (the red area in the plots), this is at the [Schwarschild radius](https://en.wikipedia.org/wiki/Schwarzschild_radius), even outside this radius, once you cross the some distance, there are no more stable orbits and you will plunge torward the black hole (the yellow area). [see an image of this region very close to the black hole here](https://eventhorizontelescope.org/press-release-april-10-2019-astronomers-capture-first-image-black-hole)\n",
    "\n",
    "#### Your turn: How could we measure the mass of a black hole?\n",
    "\n",
    "Move the sliders to see how the orbital velocity changes with the black hole mass and radius. How could we use this to measure the mass of the black hole?"
   ]
  },
  {
   "cell_type": "code",
   "execution_count": 34,
   "metadata": {
    "scrolled": true
   },
   "outputs": [
    {
     "data": {
      "application/vnd.jupyter.widget-view+json": {
       "model_id": "9319aa43b3c64ce0872148461a523c50",
       "version_major": 2,
       "version_minor": 0
      },
      "text/plain": [
       "interactive(children=(FloatSlider(value=50.0, description='distance', readout_format='.1f'), FloatSlider(value…"
      ]
     },
     "metadata": {},
     "output_type": "display_data"
    }
   ],
   "source": [
    "interactive_plot_vr =bh_interactive(False)\n",
    "output = interactive_plot_vr.children[-1]\n",
    "interactive_plot_vr"
   ]
  },
  {
   "cell_type": "markdown",
   "metadata": {},
   "source": [
    "## 3. The spectrum of a feeding black hole\n",
    "\n",
    "Luckily for us, when a supermassive black hole is accreting, gas clouds orbit it in the region we explored above. If we can measure the velocity of these gas clouds and know their distance, we can therefore measure the black hole mass by rearranging.\n",
    "\n",
    "$\\begin{equation}\n",
    "v=\\sqrt{\\dfrac{G*M}{a}}\n",
    "\\end{equation}$\n",
    "\n",
    "to\n",
    "\n",
    "$\\begin{equation}\n",
    "M_{black hole}=\\dfrac{v^2\\times a}{G}\n",
    "\\end{equation}$\n",
    "\n",
    "here v is the velicity of the cloud, a is its distance to the black hole and G is the graviational constant.\n",
    "\n",
    "#### Let's look at the spectrum of an accreting black hole\n",
    "\n",
    "[have a look at its image and there data you are using here](http://skyserver.sdss.org/dr16/en/tools/quicklook/summary.aspx?ra=14%2013%2024&dec=53%2005%2027)"
   ]
  },
  {
   "cell_type": "code",
   "execution_count": 20,
   "metadata": {},
   "outputs": [],
   "source": [
    "spectrum = np.loadtxt('spectrum.txt', delimiter=',')\n",
    "wavelength = spectrum[:,0]\n",
    "flux = spectrum[:,1]"
   ]
  },
  {
   "cell_type": "code",
   "execution_count": 21,
   "metadata": {},
   "outputs": [
    {
     "data": {
      "text/plain": [
       "Text(0, 0.5, 'Flux')"
      ]
     },
     "execution_count": 21,
     "metadata": {},
     "output_type": "execute_result"
    },
    {
     "data": {
      "image/png": "[encoded data removed]",
      "text/plain": [
       "<Figure size 432x288 with 1 Axes>"
      ]
     },
     "metadata": {},
     "output_type": "display_data"
    }
   ],
   "source": [
    "plt.plot(wavelength, flux, ls='-', c='k', lw=1)\n",
    "plt.xlabel('Wavelength [$\\AA$]')\n",
    "plt.ylabel('Flux')"
   ]
  },
  {
   "cell_type": "markdown",
   "metadata": {},
   "source": [
    "Excellent, this is the spectrum of an accreting black hole, what we see here is the material falling into the black hole and emits light as it falls in, this is called the [accretion disk](https://en.wikipedia.org/wiki/Accretion_disk). You might also see some spikes near the center of the plot. Let's have a closer look at those."
   ]
  },
  {
   "cell_type": "code",
   "execution_count": 36,
   "metadata": {},
   "outputs": [
    {
     "data": {
      "text/plain": [
       "<matplotlib.lines.Line2D at 0x11d480dd8>"
      ]
     },
     "execution_count": 36,
     "metadata": {},
     "output_type": "execute_result"
    },
    {
     "data": {
      "image/png": "[encoded data removed]",
      "text/plain": [
       "<Figure size 432x288 with 1 Axes>"
      ]
     },
     "metadata": {},
     "output_type": "display_data"
    }
   ],
   "source": [
    "plt.plot(wavelength, flux, ls='-', c='k', lw=1)\n",
    "plt.xlabel('Wavelength [$\\AA$]')\n",
    "plt.ylabel('Flux')\n",
    "plt.xlim(6950, 7400)\n",
    "plt.ylim(10, 30)\n",
    "z=0.4563313\n",
    "plt.title(\"Emission lines around accreting black hole\")\n",
    "plt.axvline(5008*(1+z), ls=':', c='b')\n",
    "plt.axvline(4960*(1+z), ls=':', c='b')\n",
    "plt.axvline(4863*(1+z), ls='-', c='r')"
   ]
  },
  {
   "cell_type": "markdown",
   "metadata": {},
   "source": [
    "Here, we see three emission lines, these come from atomic transitions. We see quite clearly that the two lines on the right (blue dotted line) are much narrower than the one on the left (marked with a red line).\n",
    "\n",
    "The lines are smeared out by the movement of the gas that is emiitting it. As the gas is moving towards us, the line appears at slightly shorter wavelength, as it moves away, at slightly longer. If many gas clouds overlap, the line appears smeared out. (you might have seen this before, it's the [Doppler effect](https://en.wikipedia.org/wiki/Doppler_effect))\n",
    "\n",
    "The **width** of the line therefore allows is to measure the **velocity** of the gas emitting it.\n",
    "\n",
    "#### Your turn: Which of the two lines should we use to measure the black hole mass?\n"
   ]
  },
  {
   "cell_type": "code",
   "execution_count": 23,
   "metadata": {},
   "outputs": [
    {
     "data": {
      "application/vnd.jupyter.widget-view+json": {
       "model_id": "a092275d44c14fa08633eba64f10e4a2",
       "version_major": 2,
       "version_minor": 0
      },
      "text/plain": [
       "interactive(children=(FloatSlider(value=15.0, description='baseline', max=20.0, min=10.0, readout_format='.1f'…"
      ]
     },
     "metadata": {},
     "output_type": "display_data"
    }
   ],
   "source": [
    "interactive_plot_spec = analyze_spectrum(False)\n",
    "output = interactive_plot_spec.children[-1]\n",
    "interactive_plot_spec"
   ]
  },
  {
   "cell_type": "markdown",
   "metadata": {},
   "source": [
    "### Your turn: Let's measure the black hole mass!\n",
    "\n",
    "$\\begin{equation}\n",
    "M_{black hole}=\\dfrac{v^2\\times a}{G}\n",
    "\\end{equation}$\n",
    "\n",
    "The location of the gas emitting this line is at a distance of 7000AU or $10^{15}$m. (this value comes from [this scientific study](https://ui.adsabs.harvard.edu/abs/2019ApJ...885...44D/abstract))\n",
    "\n",
    "Write a function to calculate the black hole mass!"
   ]
  },
  {
   "cell_type": "code",
   "execution_count": 24,
   "metadata": {},
   "outputs": [],
   "source": [
    "##type your own code here"
   ]
  },
  {
   "cell_type": "code",
   "execution_count": 25,
   "metadata": {},
   "outputs": [],
   "source": [
    "##type your own code here"
   ]
  },
  {
   "cell_type": "code",
   "execution_count": 26,
   "metadata": {},
   "outputs": [],
   "source": [
    "##type your own code here"
   ]
  },
  {
   "cell_type": "code",
   "execution_count": 27,
   "metadata": {},
   "outputs": [],
   "source": [
    "##type your own code here"
   ]
  },
  {
   "cell_type": "markdown",
   "metadata": {},
   "source": [
    "Once you are done, you can type:\n",
    "\n",
    "`tellmetheblackholemass()`\n",
    "\n",
    "to get the correct answer."
   ]
  },
  {
   "cell_type": "code",
   "execution_count": 28,
   "metadata": {},
   "outputs": [
    {
     "name": "stdout",
     "output_type": "stream",
     "text": [
      "The mass of the black hole is 8 x 10^8 solar masses or 1.6 x 10^39 kg.\n"
     ]
    }
   ],
   "source": [
    "tellmetheblackholemass()"
   ]
  },
  {
   "cell_type": "markdown",
   "metadata": {},
   "source": [
    "## 4. A whole Universe of feeding black holes\n",
    "\n",
    "-load a large number of datapoints\n",
    "-make a plot"
   ]
  },
  {
   "cell_type": "code",
   "execution_count": 29,
   "metadata": {},
   "outputs": [],
   "source": [
    "## Lets load some data\n",
    "blackholedata = np.loadtxt('KormendyHo2013Data.txt', dtype='str', delimiter=',')\n",
    "bulgemass = np.array(blackholedata[:,9], dtype=float)\n",
    "bhmass = np.array(blackholedata[:,11], dtype=float)\n",
    "sigma = np.array(blackholedata[:,14], dtype=float)"
   ]
  },
  {
   "cell_type": "code",
   "execution_count": 30,
   "metadata": {},
   "outputs": [
    {
     "data": {
      "text/plain": [
       "Text(0.5, 0, '')"
      ]
     },
     "execution_count": 30,
     "metadata": {},
     "output_type": "execute_result"
    },
    {
     "data": {
      "image/png": "[encoded data removed]",
      "text/plain": [
       "<Figure size 432x288 with 1 Axes>"
      ]
     },
     "metadata": {},
     "output_type": "display_data"
    }
   ],
   "source": [
    "plt.xkcd()\n",
    "plt.loglog(10**bulgemass, bhmass, ls='None', marker='o')\n",
    "plt.xlim(1e9, 1e12)\n",
    "plt.xlabel('')"
   ]
  },
  {
   "cell_type": "code",
   "execution_count": 31,
   "metadata": {},
   "outputs": [
    {
     "data": {
      "text/plain": [
       "array([   9.05,   11.84,   11.27,   10.65,   11.5 ,   11.74,   11.33,\n",
       "         10.26,   11.06,   11.61,   10.5 ,   10.91,   11.26,   11.01,\n",
       "         11.77,   11.65,   10.85,   11.62,   11.51,   10.88,   11.84,\n",
       "         10.85,   11.72,   10.04,    9.64,   11.64,   10.97,   11.16,\n",
       "         12.09,   11.28,   11.05,   11.65,   11.6 ,   11.  ,   10.57,\n",
       "         11.69,   11.88,   11.25,   11.61,   11.65,   11.75,   11.6 ,\n",
       "       -999.  ,   11.81,   11.78, -999.  ])"
      ]
     },
     "execution_count": 31,
     "metadata": {},
     "output_type": "execute_result"
    }
   ],
   "source": [
    "bulgemass"
   ]
  },
  {
   "cell_type": "code",
   "execution_count": null,
   "metadata": {},
   "outputs": [],
   "source": []
  },
  {
   "cell_type": "code",
   "execution_count": 32,
   "metadata": {},
   "outputs": [
    {
     "data": {
      "text/plain": [
       "1.592e+39"
      ]
     },
     "execution_count": 32,
     "metadata": {},
     "output_type": "execute_result"
    }
   ],
   "source": [
    "8e8*M_sun"
   ]
  },
  {
   "cell_type": "code",
   "execution_count": null,
   "metadata": {},
   "outputs": [],
   "source": []
  }
 ],
 "metadata": {
  "kernelspec": {
   "display_name": "Python 3",
   "language": "python",
   "name": "python3"
  },
  "language_info": {
   "codemirror_mode": {
    "name": "ipython",
    "version": 3
   },
   "file_extension": ".py",
   "mimetype": "text/x-python",
   "name": "python",
   "nbconvert_exporter": "python",
   "pygments_lexer": "ipython3",
   "version": "3.6.12"
  }
 },
 "nbformat": 4,
 "nbformat_minor": 4
}
